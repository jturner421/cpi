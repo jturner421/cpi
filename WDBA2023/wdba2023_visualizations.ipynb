{
 "cells": [
  {
   "cell_type": "code",
   "execution_count": 1,
   "metadata": {
    "ExecuteTime": {
     "end_time": "2023-06-05T19:19:47.015327Z",
     "start_time": "2023-06-05T19:19:47.003006Z"
    }
   },
   "outputs": [],
   "source": [
    "import datetime\n",
    "from pathlib import Path\n",
    "import pandas as pd\n",
    "import matplotlib.pyplot as plt\n",
    "from pandas import Timestamp as ts\n",
    "import matplotlib.pyplot as plt\n",
    "import matplotlib.style as style\n",
    "import seaborn as sns"
   ]
  },
  {
   "cell_type": "code",
   "execution_count": 2,
   "metadata": {
    "ExecuteTime": {
     "end_time": "2023-06-05T19:19:47.019487Z",
     "start_time": "2023-06-05T19:19:47.004490Z"
    }
   },
   "outputs": [],
   "source": [
    "%matplotlib inline"
   ]
  },
  {
   "cell_type": "code",
   "execution_count": 3,
   "metadata": {
    "ExecuteTime": {
     "end_time": "2023-06-05T19:19:47.027001Z",
     "start_time": "2023-06-05T19:19:47.019952Z"
    }
   },
   "outputs": [
    {
     "data": {
      "text/plain": [
       "PosixPath('/Users/jwt/PycharmProjects/cpi_program/WDBA2023')"
      ]
     },
     "execution_count": 3,
     "metadata": {},
     "output_type": "execute_result"
    }
   ],
   "source": [
    "Path.cwd()"
   ]
  },
  {
   "cell_type": "code",
   "execution_count": 4,
   "metadata": {
    "ExecuteTime": {
     "end_time": "2023-06-05T19:19:47.027308Z",
     "start_time": "2023-06-05T19:19:47.026718Z"
    }
   },
   "outputs": [],
   "source": [
    "today = datetime.datetime.today()\n",
    "input_file = Path.cwd() / 'data_files' / 'wdba_stats_processed_2022_2023Jun-04-23.csv'\n",
    "report_dir = Path.cwd() / 'reports'\n",
    "report_file = report_dir /f\"WDBA_Stats_{today:%b-%d-%y}.xlsx\"\n"
   ]
  },
  {
   "cell_type": "code",
   "execution_count": 5,
   "metadata": {
    "ExecuteTime": {
     "end_time": "2023-06-05T19:19:47.029343Z",
     "start_time": "2023-06-05T19:19:47.027156Z"
    }
   },
   "outputs": [],
   "source": [
    "# Helper function to annualize projections\n",
    "def annualized_projection(value: int, num_months: int)-> int:\n",
    "    \"\"\"\n",
    "    Annualize projections given a value and elapsed months\n",
    "\n",
    "    Parameters\n",
    "    ----------\n",
    "    value : int\n",
    "        Value to be annualized\n",
    "    num_months : int\n",
    "        Number of months elapsed\n",
    "    \"\"\"\n",
    "    return int(round(value * (12 / num_months), 0))"
   ]
  },
  {
   "cell_type": "code",
   "execution_count": 6,
   "metadata": {
    "ExecuteTime": {
     "end_time": "2023-06-05T19:19:47.068157Z",
     "start_time": "2023-06-05T19:19:47.029819Z"
    }
   },
   "outputs": [],
   "source": [
    "df = pd.read_csv(input_file, parse_dates=['date_filed', \"date_reopened\", \"date_terminated\"],\n",
    "                 dtype={'group': 'category' , 'is_prose':'category'})"
   ]
  },
  {
   "cell_type": "code",
   "execution_count": 7,
   "metadata": {
    "ExecuteTime": {
     "end_time": "2023-06-05T19:19:47.074261Z",
     "start_time": "2023-06-05T19:19:47.046962Z"
    }
   },
   "outputs": [
    {
     "name": "stdout",
     "output_type": "stream",
     "text": [
      "<class 'pandas.core.frame.DataFrame'>\n",
      "RangeIndex: 1624 entries, 0 to 1623\n",
      "Data columns (total 10 columns):\n",
      " #   Column            Non-Null Count  Dtype         \n",
      "---  ------            --------------  -----         \n",
      " 0   case_number       1624 non-null   object        \n",
      " 1   judge             1624 non-null   object        \n",
      " 2   date_filed        1624 non-null   datetime64[ns]\n",
      " 3   date_reopened     92 non-null     datetime64[ns]\n",
      " 4   date_terminated   1065 non-null   datetime64[ns]\n",
      " 5   NOS               1624 non-null   int64         \n",
      " 6   IsProse           1624 non-null   object        \n",
      " 7   group             1624 non-null   category      \n",
      " 8   is_prose          1624 non-null   category      \n",
      " 9   statistical_year  1624 non-null   int64         \n",
      "dtypes: category(2), datetime64[ns](3), int64(2), object(3)\n",
      "memory usage: 105.5+ KB\n"
     ]
    }
   ],
   "source": [
    "df.info()"
   ]
  },
  {
   "cell_type": "code",
   "execution_count": 8,
   "metadata": {
    "ExecuteTime": {
     "end_time": "2023-06-05T19:19:47.075055Z",
     "start_time": "2023-06-05T19:19:47.058650Z"
    }
   },
   "outputs": [
    {
     "data": {
      "text/html": [
       "<div>\n",
       "<style scoped>\n",
       "    .dataframe tbody tr th:only-of-type {\n",
       "        vertical-align: middle;\n",
       "    }\n",
       "\n",
       "    .dataframe tbody tr th {\n",
       "        vertical-align: top;\n",
       "    }\n",
       "\n",
       "    .dataframe thead th {\n",
       "        text-align: right;\n",
       "    }\n",
       "</style>\n",
       "<table border=\"1\" class=\"dataframe\">\n",
       "  <thead>\n",
       "    <tr style=\"text-align: right;\">\n",
       "      <th></th>\n",
       "      <th>case_number</th>\n",
       "      <th>judge</th>\n",
       "      <th>date_filed</th>\n",
       "      <th>date_reopened</th>\n",
       "      <th>date_terminated</th>\n",
       "      <th>NOS</th>\n",
       "      <th>IsProse</th>\n",
       "      <th>group</th>\n",
       "      <th>is_prose</th>\n",
       "      <th>statistical_year</th>\n",
       "    </tr>\n",
       "  </thead>\n",
       "  <tbody>\n",
       "    <tr>\n",
       "      <th>0</th>\n",
       "      <td>3:21-cv-00217-jdp</td>\n",
       "      <td>jdp</td>\n",
       "      <td>2021-04-01</td>\n",
       "      <td>NaT</td>\n",
       "      <td>2022-07-26</td>\n",
       "      <td>751</td>\n",
       "      <td>n</td>\n",
       "      <td>Labor</td>\n",
       "      <td>counseled</td>\n",
       "      <td>2022</td>\n",
       "    </tr>\n",
       "    <tr>\n",
       "      <th>1</th>\n",
       "      <td>3:21-cv-00218-wmc</td>\n",
       "      <td>wmc</td>\n",
       "      <td>2021-04-01</td>\n",
       "      <td>NaT</td>\n",
       "      <td>2022-01-03</td>\n",
       "      <td>863</td>\n",
       "      <td>n</td>\n",
       "      <td>Social Security</td>\n",
       "      <td>counseled</td>\n",
       "      <td>2022</td>\n",
       "    </tr>\n",
       "    <tr>\n",
       "      <th>2</th>\n",
       "      <td>3:21-cv-00215-wmc</td>\n",
       "      <td>wmc</td>\n",
       "      <td>2021-04-01</td>\n",
       "      <td>NaT</td>\n",
       "      <td>2023-01-31</td>\n",
       "      <td>550</td>\n",
       "      <td>y</td>\n",
       "      <td>Prisoner Petitions</td>\n",
       "      <td>prose</td>\n",
       "      <td>2022</td>\n",
       "    </tr>\n",
       "    <tr>\n",
       "      <th>3</th>\n",
       "      <td>3:21-cv-00219-jdp</td>\n",
       "      <td>jdp</td>\n",
       "      <td>2021-04-01</td>\n",
       "      <td>NaT</td>\n",
       "      <td>2021-11-30</td>\n",
       "      <td>864</td>\n",
       "      <td>n</td>\n",
       "      <td>Social Security</td>\n",
       "      <td>counseled</td>\n",
       "      <td>2022</td>\n",
       "    </tr>\n",
       "    <tr>\n",
       "      <th>4</th>\n",
       "      <td>3:21-cv-00220-wmc</td>\n",
       "      <td>wmc</td>\n",
       "      <td>2021-04-02</td>\n",
       "      <td>NaT</td>\n",
       "      <td>2022-09-02</td>\n",
       "      <td>330</td>\n",
       "      <td>n</td>\n",
       "      <td>Torts/Personal Injury</td>\n",
       "      <td>counseled</td>\n",
       "      <td>2022</td>\n",
       "    </tr>\n",
       "  </tbody>\n",
       "</table>\n",
       "</div>"
      ],
      "text/plain": [
       "         case_number judge date_filed date_reopened date_terminated  NOS  \\\n",
       "0  3:21-cv-00217-jdp   jdp 2021-04-01           NaT      2022-07-26  751   \n",
       "1  3:21-cv-00218-wmc   wmc 2021-04-01           NaT      2022-01-03  863   \n",
       "2  3:21-cv-00215-wmc   wmc 2021-04-01           NaT      2023-01-31  550   \n",
       "3  3:21-cv-00219-jdp   jdp 2021-04-01           NaT      2021-11-30  864   \n",
       "4  3:21-cv-00220-wmc   wmc 2021-04-02           NaT      2022-09-02  330   \n",
       "\n",
       "  IsProse                  group   is_prose  statistical_year  \n",
       "0       n                  Labor  counseled              2022  \n",
       "1       n        Social Security  counseled              2022  \n",
       "2       y     Prisoner Petitions      prose              2022  \n",
       "3       n        Social Security  counseled              2022  \n",
       "4       n  Torts/Personal Injury  counseled              2022  "
      ]
     },
     "execution_count": 8,
     "metadata": {},
     "output_type": "execute_result"
    }
   ],
   "source": [
    "df.head()"
   ]
  },
  {
   "cell_type": "code",
   "execution_count": 9,
   "metadata": {
    "ExecuteTime": {
     "end_time": "2023-06-05T19:19:47.075370Z",
     "start_time": "2023-06-05T19:19:47.068633Z"
    }
   },
   "outputs": [
    {
     "data": {
      "text/html": [
       "<div>\n",
       "<style scoped>\n",
       "    .dataframe tbody tr th:only-of-type {\n",
       "        vertical-align: middle;\n",
       "    }\n",
       "\n",
       "    .dataframe tbody tr th {\n",
       "        vertical-align: top;\n",
       "    }\n",
       "\n",
       "    .dataframe thead th {\n",
       "        text-align: right;\n",
       "    }\n",
       "</style>\n",
       "<table border=\"1\" class=\"dataframe\">\n",
       "  <thead>\n",
       "    <tr style=\"text-align: right;\">\n",
       "      <th></th>\n",
       "      <th>case_number</th>\n",
       "      <th>judge</th>\n",
       "      <th>date_filed</th>\n",
       "      <th>date_reopened</th>\n",
       "      <th>date_terminated</th>\n",
       "      <th>NOS</th>\n",
       "      <th>IsProse</th>\n",
       "      <th>group</th>\n",
       "      <th>is_prose</th>\n",
       "      <th>statistical_year</th>\n",
       "    </tr>\n",
       "  </thead>\n",
       "  <tbody>\n",
       "    <tr>\n",
       "      <th>1619</th>\n",
       "      <td>3:20-cv-00098-wmc</td>\n",
       "      <td>wmc</td>\n",
       "      <td>2020-01-31</td>\n",
       "      <td>2023-01-25</td>\n",
       "      <td>2023-05-12</td>\n",
       "      <td>830</td>\n",
       "      <td>n</td>\n",
       "      <td>Intellectual Property Rights</td>\n",
       "      <td>counseled</td>\n",
       "      <td>2023</td>\n",
       "    </tr>\n",
       "    <tr>\n",
       "      <th>1620</th>\n",
       "      <td>3:20-cv-00019-jdp</td>\n",
       "      <td>jdp</td>\n",
       "      <td>2020-01-09</td>\n",
       "      <td>2023-02-13</td>\n",
       "      <td>NaT</td>\n",
       "      <td>830</td>\n",
       "      <td>n</td>\n",
       "      <td>Intellectual Property Rights</td>\n",
       "      <td>counseled</td>\n",
       "      <td>2023</td>\n",
       "    </tr>\n",
       "    <tr>\n",
       "      <th>1621</th>\n",
       "      <td>3:18-cv-01003-wmc</td>\n",
       "      <td>wmc</td>\n",
       "      <td>2018-12-04</td>\n",
       "      <td>2023-02-24</td>\n",
       "      <td>NaT</td>\n",
       "      <td>550</td>\n",
       "      <td>y</td>\n",
       "      <td>Prisoner Petitions</td>\n",
       "      <td>prose</td>\n",
       "      <td>2023</td>\n",
       "    </tr>\n",
       "    <tr>\n",
       "      <th>1622</th>\n",
       "      <td>3:18-cv-00116-wmc</td>\n",
       "      <td>wmc</td>\n",
       "      <td>2018-02-19</td>\n",
       "      <td>2023-03-24</td>\n",
       "      <td>NaT</td>\n",
       "      <td>550</td>\n",
       "      <td>y</td>\n",
       "      <td>Prisoner Petitions</td>\n",
       "      <td>prose</td>\n",
       "      <td>2023</td>\n",
       "    </tr>\n",
       "    <tr>\n",
       "      <th>1623</th>\n",
       "      <td>3:20-cv-00242-wmc</td>\n",
       "      <td>wmc</td>\n",
       "      <td>2020-03-18</td>\n",
       "      <td>2023-03-31</td>\n",
       "      <td>NaT</td>\n",
       "      <td>442</td>\n",
       "      <td>n</td>\n",
       "      <td>Civil Rights</td>\n",
       "      <td>counseled</td>\n",
       "      <td>2023</td>\n",
       "    </tr>\n",
       "  </tbody>\n",
       "</table>\n",
       "</div>"
      ],
      "text/plain": [
       "            case_number judge date_filed date_reopened date_terminated  NOS  \\\n",
       "1619  3:20-cv-00098-wmc   wmc 2020-01-31    2023-01-25      2023-05-12  830   \n",
       "1620  3:20-cv-00019-jdp   jdp 2020-01-09    2023-02-13             NaT  830   \n",
       "1621  3:18-cv-01003-wmc   wmc 2018-12-04    2023-02-24             NaT  550   \n",
       "1622  3:18-cv-00116-wmc   wmc 2018-02-19    2023-03-24             NaT  550   \n",
       "1623  3:20-cv-00242-wmc   wmc 2020-03-18    2023-03-31             NaT  442   \n",
       "\n",
       "     IsProse                         group   is_prose  statistical_year  \n",
       "1619       n  Intellectual Property Rights  counseled              2023  \n",
       "1620       n  Intellectual Property Rights  counseled              2023  \n",
       "1621       y            Prisoner Petitions      prose              2023  \n",
       "1622       y            Prisoner Petitions      prose              2023  \n",
       "1623       n                  Civil Rights  counseled              2023  "
      ]
     },
     "execution_count": 9,
     "metadata": {},
     "output_type": "execute_result"
    }
   ],
   "source": [
    "df.tail()"
   ]
  },
  {
   "cell_type": "code",
   "execution_count": 10,
   "metadata": {
    "ExecuteTime": {
     "end_time": "2023-06-05T19:19:47.092289Z",
     "start_time": "2023-06-05T19:19:47.072031Z"
    }
   },
   "outputs": [],
   "source": [
    "case_breakdown_pro_se_vs_counseled = df.groupby(['statistical_year', 'is_prose'])['case_number'].count()"
   ]
  },
  {
   "cell_type": "code",
   "execution_count": 11,
   "metadata": {
    "ExecuteTime": {
     "end_time": "2023-06-05T19:19:47.094064Z",
     "start_time": "2023-06-05T19:19:47.077709Z"
    }
   },
   "outputs": [
    {
     "data": {
      "text/html": [
       "<div>\n",
       "<style scoped>\n",
       "    .dataframe tbody tr th:only-of-type {\n",
       "        vertical-align: middle;\n",
       "    }\n",
       "\n",
       "    .dataframe tbody tr th {\n",
       "        vertical-align: top;\n",
       "    }\n",
       "\n",
       "    .dataframe thead th {\n",
       "        text-align: right;\n",
       "    }\n",
       "</style>\n",
       "<table border=\"1\" class=\"dataframe\">\n",
       "  <thead>\n",
       "    <tr style=\"text-align: right;\">\n",
       "      <th>is_prose</th>\n",
       "      <th>counseled</th>\n",
       "      <th>prose</th>\n",
       "    </tr>\n",
       "    <tr>\n",
       "      <th>statistical_year</th>\n",
       "      <th></th>\n",
       "      <th></th>\n",
       "    </tr>\n",
       "  </thead>\n",
       "  <tbody>\n",
       "    <tr>\n",
       "      <th>2022</th>\n",
       "      <td>473</td>\n",
       "      <td>354</td>\n",
       "    </tr>\n",
       "    <tr>\n",
       "      <th>2023</th>\n",
       "      <td>419</td>\n",
       "      <td>378</td>\n",
       "    </tr>\n",
       "  </tbody>\n",
       "</table>\n",
       "</div>"
      ],
      "text/plain": [
       "is_prose          counseled  prose\n",
       "statistical_year                  \n",
       "2022                    473    354\n",
       "2023                    419    378"
      ]
     },
     "execution_count": 11,
     "metadata": {},
     "output_type": "execute_result"
    }
   ],
   "source": [
    "case_breakdown_pro_se_vs_counseled.unstack()"
   ]
  },
  {
   "cell_type": "code",
   "execution_count": 12,
   "metadata": {
    "ExecuteTime": {
     "end_time": "2023-06-05T19:19:47.116216Z",
     "start_time": "2023-06-05T19:19:47.092552Z"
    }
   },
   "outputs": [
    {
     "data": {
      "text/html": [
       "<div>\n",
       "<style scoped>\n",
       "    .dataframe tbody tr th:only-of-type {\n",
       "        vertical-align: middle;\n",
       "    }\n",
       "\n",
       "    .dataframe tbody tr th {\n",
       "        vertical-align: top;\n",
       "    }\n",
       "\n",
       "    .dataframe thead th {\n",
       "        text-align: right;\n",
       "    }\n",
       "</style>\n",
       "<table border=\"1\" class=\"dataframe\">\n",
       "  <thead>\n",
       "    <tr style=\"text-align: right;\">\n",
       "      <th>is_prose</th>\n",
       "      <th>counseled</th>\n",
       "      <th>prose</th>\n",
       "    </tr>\n",
       "    <tr>\n",
       "      <th>statistical_year</th>\n",
       "      <th></th>\n",
       "      <th></th>\n",
       "    </tr>\n",
       "  </thead>\n",
       "  <tbody>\n",
       "    <tr>\n",
       "      <th>2022</th>\n",
       "      <td>0.571947</td>\n",
       "      <td>0.428053</td>\n",
       "    </tr>\n",
       "    <tr>\n",
       "      <th>2023</th>\n",
       "      <td>0.525721</td>\n",
       "      <td>0.474279</td>\n",
       "    </tr>\n",
       "    <tr>\n",
       "      <th>Total</th>\n",
       "      <td>0.549261</td>\n",
       "      <td>0.450739</td>\n",
       "    </tr>\n",
       "  </tbody>\n",
       "</table>\n",
       "</div>"
      ],
      "text/plain": [
       "is_prose          counseled     prose\n",
       "statistical_year                     \n",
       "2022               0.571947  0.428053\n",
       "2023               0.525721  0.474279\n",
       "Total              0.549261  0.450739"
      ]
     },
     "execution_count": 12,
     "metadata": {},
     "output_type": "execute_result"
    }
   ],
   "source": [
    "pd.crosstab(df['statistical_year'],\n",
    "            df['is_prose'],\n",
    "            aggfunc='count',\n",
    "            values=df['case_number'],\n",
    "            margins=True,\n",
    "            margins_name='Total',\n",
    "            normalize='index')"
   ]
  },
  {
   "cell_type": "code",
   "execution_count": 13,
   "metadata": {
    "ExecuteTime": {
     "end_time": "2023-06-05T19:19:47.197384Z",
     "start_time": "2023-06-05T19:19:47.104852Z"
    }
   },
   "outputs": [
    {
     "data": {
      "text/html": [
       "<div>\n",
       "<style scoped>\n",
       "    .dataframe tbody tr th:only-of-type {\n",
       "        vertical-align: middle;\n",
       "    }\n",
       "\n",
       "    .dataframe tbody tr th {\n",
       "        vertical-align: top;\n",
       "    }\n",
       "\n",
       "    .dataframe thead tr th {\n",
       "        text-align: left;\n",
       "    }\n",
       "\n",
       "    .dataframe thead tr:last-of-type th {\n",
       "        text-align: right;\n",
       "    }\n",
       "</style>\n",
       "<table border=\"1\" class=\"dataframe\">\n",
       "  <thead>\n",
       "    <tr>\n",
       "      <th></th>\n",
       "      <th colspan=\"3\" halign=\"left\">case_number</th>\n",
       "    </tr>\n",
       "    <tr>\n",
       "      <th>is_prose</th>\n",
       "      <th>counseled</th>\n",
       "      <th>prose</th>\n",
       "      <th>Total</th>\n",
       "    </tr>\n",
       "    <tr>\n",
       "      <th>statistical_year</th>\n",
       "      <th></th>\n",
       "      <th></th>\n",
       "      <th></th>\n",
       "    </tr>\n",
       "  </thead>\n",
       "  <tbody>\n",
       "    <tr>\n",
       "      <th>2022</th>\n",
       "      <td>473</td>\n",
       "      <td>354</td>\n",
       "      <td>827</td>\n",
       "    </tr>\n",
       "    <tr>\n",
       "      <th>2023</th>\n",
       "      <td>419</td>\n",
       "      <td>378</td>\n",
       "      <td>797</td>\n",
       "    </tr>\n",
       "    <tr>\n",
       "      <th>Total</th>\n",
       "      <td>892</td>\n",
       "      <td>732</td>\n",
       "      <td>1624</td>\n",
       "    </tr>\n",
       "  </tbody>\n",
       "</table>\n",
       "</div>"
      ],
      "text/plain": [
       "                 case_number            \n",
       "is_prose           counseled prose Total\n",
       "statistical_year                        \n",
       "2022                     473   354   827\n",
       "2023                     419   378   797\n",
       "Total                    892   732  1624"
      ]
     },
     "execution_count": 13,
     "metadata": {},
     "output_type": "execute_result"
    }
   ],
   "source": [
    "pd.pivot_table(df,\n",
    "               index=['statistical_year'],\n",
    "               columns=['is_prose'],\n",
    "               values=['case_number'],\n",
    "               aggfunc='count',\n",
    "               margins=True,\n",
    "               margins_name='Total',\n",
    "               fill_value=0,\n",
    "               dropna=False,\n",
    "               observed=False)"
   ]
  },
  {
   "cell_type": "code",
   "execution_count": 14,
   "metadata": {
    "ExecuteTime": {
     "end_time": "2023-06-05T19:19:47.250969Z",
     "start_time": "2023-06-05T19:19:47.120542Z"
    }
   },
   "outputs": [],
   "source": [
    "nos_totals_by_year = pd.crosstab(df['group'],\n",
    "            df['statistical_year'],\n",
    "            aggfunc='count',\n",
    "            values=df['case_number'],\n",
    "            margins=True,\n",
    "            margins_name='Total')"
   ]
  },
  {
   "cell_type": "code",
   "execution_count": 15,
   "metadata": {
    "ExecuteTime": {
     "end_time": "2023-06-05T19:19:47.637279Z",
     "start_time": "2023-06-05T19:19:47.135377Z"
    }
   },
   "outputs": [
    {
     "ename": "KeyError",
     "evalue": "2023",
     "output_type": "error",
     "traceback": [
      "\u001B[0;31m---------------------------------------------------------------------------\u001B[0m",
      "\u001B[0;31mKeyError\u001B[0m                                  Traceback (most recent call last)",
      "File \u001B[0;32m~/Library/Caches/pypoetry/virtualenvs/cpi-program-2oG3wahL-py3.11/lib/python3.11/site-packages/pandas/core/indexes/base.py:3802\u001B[0m, in \u001B[0;36mIndex.get_loc\u001B[0;34m(self, key, method, tolerance)\u001B[0m\n\u001B[1;32m   3801\u001B[0m \u001B[38;5;28;01mtry\u001B[39;00m:\n\u001B[0;32m-> 3802\u001B[0m     \u001B[38;5;28;01mreturn\u001B[39;00m \u001B[38;5;28;43mself\u001B[39;49m\u001B[38;5;241;43m.\u001B[39;49m\u001B[43m_engine\u001B[49m\u001B[38;5;241;43m.\u001B[39;49m\u001B[43mget_loc\u001B[49m\u001B[43m(\u001B[49m\u001B[43mcasted_key\u001B[49m\u001B[43m)\u001B[49m\n\u001B[1;32m   3803\u001B[0m \u001B[38;5;28;01mexcept\u001B[39;00m \u001B[38;5;167;01mKeyError\u001B[39;00m \u001B[38;5;28;01mas\u001B[39;00m err:\n",
      "File \u001B[0;32m~/Library/Caches/pypoetry/virtualenvs/cpi-program-2oG3wahL-py3.11/lib/python3.11/site-packages/pandas/_libs/index.pyx:138\u001B[0m, in \u001B[0;36mpandas._libs.index.IndexEngine.get_loc\u001B[0;34m()\u001B[0m\n",
      "File \u001B[0;32m~/Library/Caches/pypoetry/virtualenvs/cpi-program-2oG3wahL-py3.11/lib/python3.11/site-packages/pandas/_libs/index.pyx:165\u001B[0m, in \u001B[0;36mpandas._libs.index.IndexEngine.get_loc\u001B[0;34m()\u001B[0m\n",
      "File \u001B[0;32mpandas/_libs/hashtable_class_helper.pxi:5745\u001B[0m, in \u001B[0;36mpandas._libs.hashtable.PyObjectHashTable.get_item\u001B[0;34m()\u001B[0m\n",
      "File \u001B[0;32mpandas/_libs/hashtable_class_helper.pxi:5753\u001B[0m, in \u001B[0;36mpandas._libs.hashtable.PyObjectHashTable.get_item\u001B[0;34m()\u001B[0m\n",
      "\u001B[0;31mKeyError\u001B[0m: 2023",
      "\nThe above exception was the direct cause of the following exception:\n",
      "\u001B[0;31mKeyError\u001B[0m                                  Traceback (most recent call last)",
      "Cell \u001B[0;32mIn[15], line 2\u001B[0m\n\u001B[1;32m      1\u001B[0m \u001B[38;5;66;03m# Annualize projections for 2023\u001B[39;00m\n\u001B[0;32m----> 2\u001B[0m nos_totals_by_year\u001B[38;5;241m.\u001B[39mloc[\u001B[38;5;241m2023\u001B[39m,:] \u001B[38;5;241m=\u001B[39m \u001B[43mnos_totals_by_year\u001B[49m\u001B[38;5;241;43m.\u001B[39;49m\u001B[43mloc\u001B[49m\u001B[43m[\u001B[49m\u001B[38;5;241;43m2023\u001B[39;49m\u001B[43m,\u001B[49m\u001B[43m:\u001B[49m\u001B[43m]\u001B[49m\u001B[38;5;241m.\u001B[39mapply(\u001B[38;5;28;01mlambda\u001B[39;00m x: annualized_projection(x, \u001B[38;5;241m11\u001B[39m))\n",
      "File \u001B[0;32m~/Library/Caches/pypoetry/virtualenvs/cpi-program-2oG3wahL-py3.11/lib/python3.11/site-packages/pandas/core/indexing.py:1067\u001B[0m, in \u001B[0;36m_LocationIndexer.__getitem__\u001B[0;34m(self, key)\u001B[0m\n\u001B[1;32m   1065\u001B[0m     \u001B[38;5;28;01mif\u001B[39;00m \u001B[38;5;28mself\u001B[39m\u001B[38;5;241m.\u001B[39m_is_scalar_access(key):\n\u001B[1;32m   1066\u001B[0m         \u001B[38;5;28;01mreturn\u001B[39;00m \u001B[38;5;28mself\u001B[39m\u001B[38;5;241m.\u001B[39mobj\u001B[38;5;241m.\u001B[39m_get_value(\u001B[38;5;241m*\u001B[39mkey, takeable\u001B[38;5;241m=\u001B[39m\u001B[38;5;28mself\u001B[39m\u001B[38;5;241m.\u001B[39m_takeable)\n\u001B[0;32m-> 1067\u001B[0m     \u001B[38;5;28;01mreturn\u001B[39;00m \u001B[38;5;28;43mself\u001B[39;49m\u001B[38;5;241;43m.\u001B[39;49m\u001B[43m_getitem_tuple\u001B[49m\u001B[43m(\u001B[49m\u001B[43mkey\u001B[49m\u001B[43m)\u001B[49m\n\u001B[1;32m   1068\u001B[0m \u001B[38;5;28;01melse\u001B[39;00m:\n\u001B[1;32m   1069\u001B[0m     \u001B[38;5;66;03m# we by definition only have the 0th axis\u001B[39;00m\n\u001B[1;32m   1070\u001B[0m     axis \u001B[38;5;241m=\u001B[39m \u001B[38;5;28mself\u001B[39m\u001B[38;5;241m.\u001B[39maxis \u001B[38;5;129;01mor\u001B[39;00m \u001B[38;5;241m0\u001B[39m\n",
      "File \u001B[0;32m~/Library/Caches/pypoetry/virtualenvs/cpi-program-2oG3wahL-py3.11/lib/python3.11/site-packages/pandas/core/indexing.py:1247\u001B[0m, in \u001B[0;36m_LocIndexer._getitem_tuple\u001B[0;34m(self, tup)\u001B[0m\n\u001B[1;32m   1245\u001B[0m \u001B[38;5;28;01mwith\u001B[39;00m suppress(IndexingError):\n\u001B[1;32m   1246\u001B[0m     tup \u001B[38;5;241m=\u001B[39m \u001B[38;5;28mself\u001B[39m\u001B[38;5;241m.\u001B[39m_expand_ellipsis(tup)\n\u001B[0;32m-> 1247\u001B[0m     \u001B[38;5;28;01mreturn\u001B[39;00m \u001B[38;5;28;43mself\u001B[39;49m\u001B[38;5;241;43m.\u001B[39;49m\u001B[43m_getitem_lowerdim\u001B[49m\u001B[43m(\u001B[49m\u001B[43mtup\u001B[49m\u001B[43m)\u001B[49m\n\u001B[1;32m   1249\u001B[0m \u001B[38;5;66;03m# no multi-index, so validate all of the indexers\u001B[39;00m\n\u001B[1;32m   1250\u001B[0m tup \u001B[38;5;241m=\u001B[39m \u001B[38;5;28mself\u001B[39m\u001B[38;5;241m.\u001B[39m_validate_tuple_indexer(tup)\n",
      "File \u001B[0;32m~/Library/Caches/pypoetry/virtualenvs/cpi-program-2oG3wahL-py3.11/lib/python3.11/site-packages/pandas/core/indexing.py:967\u001B[0m, in \u001B[0;36m_LocationIndexer._getitem_lowerdim\u001B[0;34m(self, tup)\u001B[0m\n\u001B[1;32m    963\u001B[0m \u001B[38;5;28;01mfor\u001B[39;00m i, key \u001B[38;5;129;01min\u001B[39;00m \u001B[38;5;28menumerate\u001B[39m(tup):\n\u001B[1;32m    964\u001B[0m     \u001B[38;5;28;01mif\u001B[39;00m is_label_like(key):\n\u001B[1;32m    965\u001B[0m         \u001B[38;5;66;03m# We don't need to check for tuples here because those are\u001B[39;00m\n\u001B[1;32m    966\u001B[0m         \u001B[38;5;66;03m#  caught by the _is_nested_tuple_indexer check above.\u001B[39;00m\n\u001B[0;32m--> 967\u001B[0m         section \u001B[38;5;241m=\u001B[39m \u001B[38;5;28;43mself\u001B[39;49m\u001B[38;5;241;43m.\u001B[39;49m\u001B[43m_getitem_axis\u001B[49m\u001B[43m(\u001B[49m\u001B[43mkey\u001B[49m\u001B[43m,\u001B[49m\u001B[43m \u001B[49m\u001B[43maxis\u001B[49m\u001B[38;5;241;43m=\u001B[39;49m\u001B[43mi\u001B[49m\u001B[43m)\u001B[49m\n\u001B[1;32m    969\u001B[0m         \u001B[38;5;66;03m# We should never have a scalar section here, because\u001B[39;00m\n\u001B[1;32m    970\u001B[0m         \u001B[38;5;66;03m#  _getitem_lowerdim is only called after a check for\u001B[39;00m\n\u001B[1;32m    971\u001B[0m         \u001B[38;5;66;03m#  is_scalar_access, which that would be.\u001B[39;00m\n\u001B[1;32m    972\u001B[0m         \u001B[38;5;28;01mif\u001B[39;00m section\u001B[38;5;241m.\u001B[39mndim \u001B[38;5;241m==\u001B[39m \u001B[38;5;28mself\u001B[39m\u001B[38;5;241m.\u001B[39mndim:\n\u001B[1;32m    973\u001B[0m             \u001B[38;5;66;03m# we're in the middle of slicing through a MultiIndex\u001B[39;00m\n\u001B[1;32m    974\u001B[0m             \u001B[38;5;66;03m# revise the key wrt to `section` by inserting an _NS\u001B[39;00m\n",
      "File \u001B[0;32m~/Library/Caches/pypoetry/virtualenvs/cpi-program-2oG3wahL-py3.11/lib/python3.11/site-packages/pandas/core/indexing.py:1312\u001B[0m, in \u001B[0;36m_LocIndexer._getitem_axis\u001B[0;34m(self, key, axis)\u001B[0m\n\u001B[1;32m   1310\u001B[0m \u001B[38;5;66;03m# fall thru to straight lookup\u001B[39;00m\n\u001B[1;32m   1311\u001B[0m \u001B[38;5;28mself\u001B[39m\u001B[38;5;241m.\u001B[39m_validate_key(key, axis)\n\u001B[0;32m-> 1312\u001B[0m \u001B[38;5;28;01mreturn\u001B[39;00m \u001B[38;5;28;43mself\u001B[39;49m\u001B[38;5;241;43m.\u001B[39;49m\u001B[43m_get_label\u001B[49m\u001B[43m(\u001B[49m\u001B[43mkey\u001B[49m\u001B[43m,\u001B[49m\u001B[43m \u001B[49m\u001B[43maxis\u001B[49m\u001B[38;5;241;43m=\u001B[39;49m\u001B[43maxis\u001B[49m\u001B[43m)\u001B[49m\n",
      "File \u001B[0;32m~/Library/Caches/pypoetry/virtualenvs/cpi-program-2oG3wahL-py3.11/lib/python3.11/site-packages/pandas/core/indexing.py:1260\u001B[0m, in \u001B[0;36m_LocIndexer._get_label\u001B[0;34m(self, label, axis)\u001B[0m\n\u001B[1;32m   1258\u001B[0m \u001B[38;5;28;01mdef\u001B[39;00m \u001B[38;5;21m_get_label\u001B[39m(\u001B[38;5;28mself\u001B[39m, label, axis: \u001B[38;5;28mint\u001B[39m):\n\u001B[1;32m   1259\u001B[0m     \u001B[38;5;66;03m# GH#5567 this will fail if the label is not present in the axis.\u001B[39;00m\n\u001B[0;32m-> 1260\u001B[0m     \u001B[38;5;28;01mreturn\u001B[39;00m \u001B[38;5;28;43mself\u001B[39;49m\u001B[38;5;241;43m.\u001B[39;49m\u001B[43mobj\u001B[49m\u001B[38;5;241;43m.\u001B[39;49m\u001B[43mxs\u001B[49m\u001B[43m(\u001B[49m\u001B[43mlabel\u001B[49m\u001B[43m,\u001B[49m\u001B[43m \u001B[49m\u001B[43maxis\u001B[49m\u001B[38;5;241;43m=\u001B[39;49m\u001B[43maxis\u001B[49m\u001B[43m)\u001B[49m\n",
      "File \u001B[0;32m~/Library/Caches/pypoetry/virtualenvs/cpi-program-2oG3wahL-py3.11/lib/python3.11/site-packages/pandas/core/generic.py:4056\u001B[0m, in \u001B[0;36mNDFrame.xs\u001B[0;34m(self, key, axis, level, drop_level)\u001B[0m\n\u001B[1;32m   4054\u001B[0m             new_index \u001B[38;5;241m=\u001B[39m index[loc]\n\u001B[1;32m   4055\u001B[0m \u001B[38;5;28;01melse\u001B[39;00m:\n\u001B[0;32m-> 4056\u001B[0m     loc \u001B[38;5;241m=\u001B[39m \u001B[43mindex\u001B[49m\u001B[38;5;241;43m.\u001B[39;49m\u001B[43mget_loc\u001B[49m\u001B[43m(\u001B[49m\u001B[43mkey\u001B[49m\u001B[43m)\u001B[49m\n\u001B[1;32m   4058\u001B[0m     \u001B[38;5;28;01mif\u001B[39;00m \u001B[38;5;28misinstance\u001B[39m(loc, np\u001B[38;5;241m.\u001B[39mndarray):\n\u001B[1;32m   4059\u001B[0m         \u001B[38;5;28;01mif\u001B[39;00m loc\u001B[38;5;241m.\u001B[39mdtype \u001B[38;5;241m==\u001B[39m np\u001B[38;5;241m.\u001B[39mbool_:\n",
      "File \u001B[0;32m~/Library/Caches/pypoetry/virtualenvs/cpi-program-2oG3wahL-py3.11/lib/python3.11/site-packages/pandas/core/indexes/base.py:3804\u001B[0m, in \u001B[0;36mIndex.get_loc\u001B[0;34m(self, key, method, tolerance)\u001B[0m\n\u001B[1;32m   3802\u001B[0m     \u001B[38;5;28;01mreturn\u001B[39;00m \u001B[38;5;28mself\u001B[39m\u001B[38;5;241m.\u001B[39m_engine\u001B[38;5;241m.\u001B[39mget_loc(casted_key)\n\u001B[1;32m   3803\u001B[0m \u001B[38;5;28;01mexcept\u001B[39;00m \u001B[38;5;167;01mKeyError\u001B[39;00m \u001B[38;5;28;01mas\u001B[39;00m err:\n\u001B[0;32m-> 3804\u001B[0m     \u001B[38;5;28;01mraise\u001B[39;00m \u001B[38;5;167;01mKeyError\u001B[39;00m(key) \u001B[38;5;28;01mfrom\u001B[39;00m \u001B[38;5;21;01merr\u001B[39;00m\n\u001B[1;32m   3805\u001B[0m \u001B[38;5;28;01mexcept\u001B[39;00m \u001B[38;5;167;01mTypeError\u001B[39;00m:\n\u001B[1;32m   3806\u001B[0m     \u001B[38;5;66;03m# If we have a listlike key, _check_indexing_error will raise\u001B[39;00m\n\u001B[1;32m   3807\u001B[0m     \u001B[38;5;66;03m#  InvalidIndexError. Otherwise we fall through and re-raise\u001B[39;00m\n\u001B[1;32m   3808\u001B[0m     \u001B[38;5;66;03m#  the TypeError.\u001B[39;00m\n\u001B[1;32m   3809\u001B[0m     \u001B[38;5;28mself\u001B[39m\u001B[38;5;241m.\u001B[39m_check_indexing_error(key)\n",
      "\u001B[0;31mKeyError\u001B[0m: 2023"
     ]
    }
   ],
   "source": [
    "# Annualize projections for 2023\n",
    "# nos_totals_by_year.loc[2023,:] = nos_totals_by_year.loc[2023,:].apply(lambda x: annualized_projection(x, 11))"
   ]
  },
  {
   "cell_type": "code",
   "execution_count": null,
   "metadata": {},
   "outputs": [],
   "source": [
    "nos_totals_by_year"
   ]
  },
  {
   "cell_type": "code",
   "execution_count": null,
   "metadata": {},
   "outputs": [],
   "source": [
    "nos_totals_by_year = pd.crosstab(df['group'],\n",
    "            df['statistical_year'],\n",
    "            aggfunc='count',\n",
    "            values=df['case_number'])"
   ]
  },
  {
   "cell_type": "code",
   "execution_count": null,
   "metadata": {},
   "outputs": [],
   "source": [
    "nos_totals_by_year"
   ]
  },
  {
   "cell_type": "code",
   "execution_count": null,
   "metadata": {},
   "outputs": [],
   "source": [
    "pct_change = nos_totals_by_year.pct_change(axis='columns')"
   ]
  },
  {
   "cell_type": "code",
   "execution_count": null,
   "metadata": {},
   "outputs": [],
   "source": [
    "pct_change"
   ]
  },
  {
   "cell_type": "code",
   "execution_count": null,
   "metadata": {},
   "outputs": [],
   "source": [
    "round(pct_change.loc[:, 2023]*100, 2)"
   ]
  },
  {
   "cell_type": "code",
   "execution_count": null,
   "metadata": {},
   "outputs": [],
   "source": [
    "pct_change.columns"
   ]
  },
  {
   "cell_type": "code",
   "execution_count": null,
   "metadata": {},
   "outputs": [],
   "source": [
    "stats = pd.read_csv('/Users/jwt/PycharmProjects/cpi_program/WDBA2023/data_files/wdba_stats_processed_Jun-05-23.csv', parse_dates=['date_filed', \"date_reopened\", \"date_terminated\"],\n",
    "                 dtype={'group': 'category' , 'is_prose':'category'})"
   ]
  },
  {
   "cell_type": "code",
   "execution_count": null,
   "metadata": {},
   "outputs": [],
   "source": [
    "total_cases = pd.pivot_table(stats, index=['statistical_year'], aggfunc='count', values=['case_number'])"
   ]
  },
  {
   "cell_type": "code",
   "execution_count": null,
   "metadata": {},
   "outputs": [],
   "source": [
    "stats.tail()"
   ]
  },
  {
   "cell_type": "markdown",
   "source": [],
   "metadata": {
    "collapsed": false
   }
  },
  {
   "cell_type": "code",
   "execution_count": 26,
   "metadata": {
    "ExecuteTime": {
     "end_time": "2023-06-05T19:24:58.824780Z",
     "start_time": "2023-06-05T19:24:58.818495Z"
    }
   },
   "outputs": [
    {
     "data": {
      "text/html": [
       "<div>\n",
       "<style scoped>\n",
       "    .dataframe tbody tr th:only-of-type {\n",
       "        vertical-align: middle;\n",
       "    }\n",
       "\n",
       "    .dataframe tbody tr th {\n",
       "        vertical-align: top;\n",
       "    }\n",
       "\n",
       "    .dataframe thead th {\n",
       "        text-align: right;\n",
       "    }\n",
       "</style>\n",
       "<table border=\"1\" class=\"dataframe\">\n",
       "  <thead>\n",
       "    <tr style=\"text-align: right;\">\n",
       "      <th></th>\n",
       "      <th>case_number</th>\n",
       "    </tr>\n",
       "    <tr>\n",
       "      <th>statistical_year</th>\n",
       "      <th></th>\n",
       "    </tr>\n",
       "  </thead>\n",
       "  <tbody>\n",
       "    <tr>\n",
       "      <th>2019</th>\n",
       "      <td>1066</td>\n",
       "    </tr>\n",
       "    <tr>\n",
       "      <th>2020</th>\n",
       "      <td>1104</td>\n",
       "    </tr>\n",
       "    <tr>\n",
       "      <th>2021</th>\n",
       "      <td>1028</td>\n",
       "    </tr>\n",
       "    <tr>\n",
       "      <th>2022</th>\n",
       "      <td>807</td>\n",
       "    </tr>\n",
       "    <tr>\n",
       "      <th>2023</th>\n",
       "      <td>779</td>\n",
       "    </tr>\n",
       "  </tbody>\n",
       "</table>\n",
       "</div>"
      ],
      "text/plain": [
       "                  case_number\n",
       "statistical_year             \n",
       "2019                     1066\n",
       "2020                     1104\n",
       "2021                     1028\n",
       "2022                      807\n",
       "2023                      779"
      ]
     },
     "execution_count": 26,
     "metadata": {},
     "output_type": "execute_result"
    }
   ],
   "source": [
    "total_cases"
   ]
  },
  {
   "cell_type": "markdown",
   "source": [
    "## Plots\n"
   ],
   "metadata": {
    "collapsed": false
   }
  },
  {
   "cell_type": "code",
   "execution_count": 98,
   "outputs": [],
   "source": [
    "# Colorblind-friendly colors\n",
    "colors = [[0,0,0], [230/255,159/255,0], [86/255,180/255,233/255], [0,158/255,115/255],\n",
    "          [213/255,94/255,0], [0,114/255,178/255]]\n"
   ],
   "metadata": {
    "collapsed": false,
    "ExecuteTime": {
     "end_time": "2023-06-05T20:50:00.350336Z",
     "start_time": "2023-06-05T20:50:00.342950Z"
    }
   }
  },
  {
   "cell_type": "code",
   "execution_count": 27,
   "metadata": {
    "ExecuteTime": {
     "end_time": "2023-06-05T20:08:50.717715Z",
     "start_time": "2023-06-05T20:08:50.709304Z"
    }
   },
   "outputs": [],
   "source": [
    "x = total_cases['case_number']\n",
    "y = total_cases.index"
   ]
  },
  {
   "cell_type": "code",
   "execution_count": 97,
   "metadata": {
    "ExecuteTime": {
     "end_time": "2023-06-05T20:48:07.155664Z",
     "start_time": "2023-06-05T20:48:06.507467Z"
    }
   },
   "outputs": [
    {
     "data": {
      "text/plain": "<Figure size 1200x800 with 1 Axes>",
      "image/png": "[encoded data removed]"
     },
     "metadata": {},
     "output_type": "display_data"
    }
   ],
   "source": [
    "fig, ax = plt.subplots(figsize=(12, 8))\n",
    "style.use('fivethirtyeight')\n",
    "bar_width = 0.8\n",
    "for (total, year) in zip(x, y):\n",
    "    p = ax.bar(year,\n",
    "            # using the Case ID data\n",
    "            total,\n",
    "            # set the width\n",
    "            width=bar_width,\n",
    "            # with the label Case Year\n",
    "            label=year,\n",
    "            # with alpha 0.5\n",
    "            alpha=0.5,\n",
    "            # with color\n",
    "            color='#0F95D7')\n",
    "    ax.bar_label(p, label_type='edge', fontsize=14, color='#414141')\n",
    "# Y axis past 0 & above 100 -- grid line will pass 0 & 100 marker\n",
    "plt.ylim(-5,1300)\n",
    "# Bolded horizontal line at y=0\n",
    "ax.axhline(y=0, color='#414141', linewidth=1.7, alpha=.7)\n",
    "\n",
    "# Y-labels to only these\n",
    "ax.set_yticks([0, 200, 400, 600,800, 1000, 1200])\n",
    "ax.set_yticklabels(labels=['0', '200', '400', '600', '800', '1000','1200'], fontsize=14, color='#414141')\n",
    "\n",
    "# X-labels and changing label names\n",
    "ax.set_xticks([2019, 2020, 2021, 2022, 2023])\n",
    "ax.set_xticklabels(['2019', '2020','2021','2022','2023'], fontsize=14, color='#414141')\n",
    "\n",
    "# create more vertical space\n",
    "plt.xlim(left=2018)\n",
    "\n",
    "# Title and Subtitle\n",
    "ax.text(x=2017.75, y=1400, s=\"Total Civil Cases Filed\", fontsize=26, weight='bold', alpha=.75)\n",
    "ax.text(x=2017.75, y=1340, s=\"For the 12-Month Period Ending March 2023\", fontsize=19, alpha=.85)\n",
    "\n",
    "# Signature bar\n",
    "ax.text(x=2017.75, y=-150, s='___________________________________________________________________________________________________',\n",
    "        color='#414141', alpha=.7)\n",
    "# Footer\n",
    "ax.text(x=2017.75, y=-250,\n",
    "        s='   ©Western District of Wisconsin',fontsize = 14, color = 'grey', alpha=.7)\n",
    "\n",
    "ax.text(x=2022.65, y=-250,\n",
    "        s='   Source: CM/ECF',fontsize = 14, color = 'grey', alpha=.7);\n",
    "\n",
    "plt.savefig('/Users/jwt/PycharmProjects/cpi_program/WDBA2023/figures/total_cases.png', dpi=300, bbox_inches='tight')"
   ]
  },
  {
   "cell_type": "code",
   "execution_count": null,
   "metadata": {},
   "outputs": [],
   "source": []
  },
  {
   "cell_type": "code",
   "execution_count": null,
   "metadata": {},
   "outputs": [],
   "source": []
  }
 ],
 "metadata": {
  "kernelspec": {
   "display_name": "Python 3 (ipykernel)",
   "language": "python",
   "name": "python3"
  },
  "language_info": {
   "codemirror_mode": {
    "name": "ipython",
    "version": 3
   },
   "file_extension": ".py",
   "mimetype": "text/x-python",
   "name": "python",
   "nbconvert_exporter": "python",
   "pygments_lexer": "ipython3",
   "version": "3.11.2"
  }
 },
 "nbformat": 4,
 "nbformat_minor": 1
}
